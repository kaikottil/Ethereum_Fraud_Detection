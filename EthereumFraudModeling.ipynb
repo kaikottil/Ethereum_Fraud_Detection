{
 "cells": [
  {
   "cell_type": "code",
   "execution_count": 1,
   "id": "bd6cfb97",
   "metadata": {},
   "outputs": [],
   "source": [
    "class EthereumFraudModeling:\n",
    "    \"\"\"\n",
    "        Data: \n",
    "            - https://www.kaggle.com/datasets/vagifa/ethereum-frauddetection-dataset\n",
    "        \n",
    "        Notes:\n",
    "            We can modularize our codes into functions in the en. This is just a \n",
    "            placeholder for now.\n",
    "    \"\"\"\n",
    "    \n",
    "    def __init__(self):\n",
    "        self.import_data()\n",
    "        self.models = []\n",
    "\n",
    "    def import_data(self, data_name='ethereum'):\n",
    "        if data_name == 'ethereum':\n",
    "            self.data = pd.read_csv('./data/transaction_dataset.csv', index_col=0)\n",
    "        "
   ]
  },
  {
   "cell_type": "markdown",
   "id": "92593df7",
   "metadata": {},
   "source": [
    "# 1. Libaries"
   ]
  },
  {
   "cell_type": "code",
   "execution_count": 2,
   "id": "5c01514a",
   "metadata": {},
   "outputs": [],
   "source": [
    "import warnings\n",
    "warnings.filterwarnings('ignore')\n",
    "\n",
    "import pandas as pd\n",
    "import matplotlib.pyplot as plt\n",
    "import numpy as np \n",
    "import seaborn as sns\n",
    "\n",
    "from sklearn.model_selection import train_test_split\n",
    "from sklearn.metrics import confusion_matrix, roc_auc_score, roc_curve, auc, classification_report, plot_confusion_matrix, precision_recall_curve, f1_score"
   ]
  },
  {
   "cell_type": "markdown",
   "id": "4d6509f9",
   "metadata": {},
   "source": [
    "# 2. Data Reading"
   ]
  },
  {
   "cell_type": "code",
   "execution_count": 3,
   "id": "cb622093",
   "metadata": {},
   "outputs": [
    {
     "name": "stdout",
     "output_type": "stream",
     "text": [
      "(9841, 50)\n"
     ]
    }
   ],
   "source": [
    "efm = EthereumFraudModeling()\n",
    "print(efm.data.shape)"
   ]
  },
  {
   "cell_type": "markdown",
   "id": "6bb54154",
   "metadata": {},
   "source": [
    "# 3. Data Exploration (by Saksham)"
   ]
  },
  {
   "cell_type": "markdown",
   "id": "fe5b1731",
   "metadata": {},
   "source": [
    "# 4. Data Cleaning (by Saksham)"
   ]
  },
  {
   "cell_type": "markdown",
   "id": "881cd76a",
   "metadata": {},
   "source": [
    "# 5. Data Preparation (by Saksham)"
   ]
  },
  {
   "cell_type": "markdown",
   "id": "c58d2197",
   "metadata": {},
   "source": [
    "# 6. Sampling (by Saksham)"
   ]
  },
  {
   "cell_type": "markdown",
   "id": "70ebbf59",
   "metadata": {},
   "source": [
    "## Method 1. SMOTE Sampling"
   ]
  },
  {
   "cell_type": "markdown",
   "id": "38a8c6e6",
   "metadata": {},
   "source": [
    "## Method 2. 3-Way cross validation"
   ]
  },
  {
   "cell_type": "markdown",
   "id": "b5f03c18",
   "metadata": {},
   "source": [
    "# 7. Modeling"
   ]
  },
  {
   "cell_type": "markdown",
   "id": "a05b835e",
   "metadata": {},
   "source": [
    "## Model 1. Supervised: Random Forest (by Akshay)"
   ]
  },
  {
   "cell_type": "markdown",
   "id": "149bf0f6",
   "metadata": {},
   "source": [
    "## Model 2. Supervised: Decision Tree (by Akshay)"
   ]
  },
  {
   "cell_type": "markdown",
   "id": "5532b297",
   "metadata": {},
   "source": [
    "## Model 3. Unsupervised: GMM (by Pratik)"
   ]
  },
  {
   "cell_type": "markdown",
   "id": "15e81415",
   "metadata": {},
   "source": [
    "## Model 4. Unsupervised: DBSCAN (by Pratik)"
   ]
  },
  {
   "cell_type": "markdown",
   "id": "06596eeb",
   "metadata": {},
   "source": [
    "# 8. Model Evaluation (by Kenny)"
   ]
  },
  {
   "cell_type": "markdown",
   "id": "fc27e630",
   "metadata": {},
   "source": [
    "### -------------------- Functions Delarations --------------------"
   ]
  },
  {
   "cell_type": "code",
   "execution_count": 4,
   "id": "edebfa81",
   "metadata": {},
   "outputs": [],
   "source": [
    "# Helper: compute corresponding f1-score given thresholds\n",
    "def compute_f1(y_test, y_pred, thresholds):\n",
    "    scores = []\n",
    "    for th in thresholds:\n",
    "        th_y_pred = y_pred.copy()\n",
    "        \n",
    "        th_y_pred[th_y_pred >= th] = 0\n",
    "        th_y_pred[th_y_pred < th] = 1\n",
    "        scores.append(f1_score(y_test, th_y_pred))\n",
    "    return scores\n",
    "\n",
    "\n",
    "def plot_ROC(y_test, y_pred, plt_config, f1=False):\n",
    "    fpr, tpr, threshold = roc_curve(y_test, y_pred)\n",
    "    roc_auc = auc(fpr, tpr)\n",
    "    \n",
    "    scores = []\n",
    "    if f1:\n",
    "        scores = compute_f1(y_test, y_pred, thresholds)\n",
    "\n",
    "    plt.figure(figsize=plt_config['figsize'])\n",
    "    plt.title('ROC for ' + plt_config['model'])\n",
    "    plt.plot(fpr, tpr, 'b', label='AUC = %0.2f' % roc_auc)\n",
    "    plt.plot([0,1], [0,1], 'y--')\n",
    "    if f1:\n",
    "        plt.plot(thresholds, scores, 'r')\n",
    "    plt.ylabel('True Positive Rate / Score')\n",
    "    plt.xlabel('False Positive Rate / Threshold')\n",
    "    plt.legend(['ROC', 'Perfect Classifier', 'F1'])\n",
    "    plt.show()\n",
    "\n",
    "\n",
    "def plot_PRC(y_test, y_pred, plt_config, f1=False):\n",
    "    precision, recall, thresholds = precision_recall_curve(y_test, y_pred)\n",
    "\n",
    "    scores = []\n",
    "    if f1:\n",
    "        scores = compute_f1(y_test, y_pred, thresholds)\n",
    "\n",
    "    plt.figure(figsize=plt_config['figsize'])\n",
    "    plt.title('PRC for ' + plt_config['model'])\n",
    "    plt.plot(recall, precision, 'b')\n",
    "    if f1:\n",
    "        plt.plot(thresholds, scores, 'r')\n",
    "    plt.ylabel('Precision / Score')\n",
    "    plt.xlabel('Recall / Threshold')\n",
    "    plt.legend(['PRC', 'F1'])\n",
    "    plt.show()\n"
   ]
  },
  {
   "cell_type": "markdown",
   "id": "f1e5a049",
   "metadata": {},
   "source": [
    "## Metric 1. ROC w/ F1"
   ]
  },
  {
   "cell_type": "code",
   "execution_count": 5,
   "id": "c750161a",
   "metadata": {},
   "outputs": [
    {
     "data": {
      "text/plain": [
       "\"\\n# Get probablistic predictions using a trained model\\nprobs = xgb_c.predict_proba(norm_test_f)\\npred = probs[:, 1]\\n\\n# Customize plot\\nplt_config = {\\n    'figsize': (12, 8),\\n    'model': 'XGB Classifier'\\n}\\n\\n# Call the function with your choice of f1 plotting (in the same grapgh)\\nplot_ROC(y_test, pred, plt_config, f1=True)\\n\""
      ]
     },
     "execution_count": 5,
     "metadata": {},
     "output_type": "execute_result"
    }
   ],
   "source": [
    "# Prepare parameters for ROC\n",
    "\n",
    "# Uncomment the following when you have data ready\n",
    "\n",
    "\"\"\"\n",
    "# Get probablistic predictions using a trained model\n",
    "probs = xgb_c.predict_proba(norm_test_f)\n",
    "pred = probs[:, 1]\n",
    "\n",
    "# Customize plot\n",
    "plt_config = {\n",
    "    'figsize': (12, 8),\n",
    "    'model': 'XGB Classifier'\n",
    "}\n",
    "\n",
    "# Call the function with your choice of f1 plotting (in the same grapgh)\n",
    "plot_ROC(y_test, pred, plt_config, f1=True)\n",
    "\"\"\""
   ]
  },
  {
   "cell_type": "markdown",
   "id": "762eb1fd",
   "metadata": {},
   "source": [
    "## Metric 2. PRC w/ F1"
   ]
  },
  {
   "cell_type": "code",
   "execution_count": 6,
   "id": "27eadeb7",
   "metadata": {},
   "outputs": [
    {
     "data": {
      "text/plain": [
       "\"\\n# Get probablistic predictions using a trained model\\nprobs = xgb_c.predict_proba(norm_test_f)\\npred = probs[:, 1]\\n\\n# Customize plot\\nplt_config = {\\n    'figsize': (12, 8),\\n    'model': 'XGB Classifier'\\n}\\n\\n# Call the function with your choice of f1 plotting (in the same grapgh)\\nplot_PRC(y_test, pred, plt_config, f1=True)\\n\""
      ]
     },
     "execution_count": 6,
     "metadata": {},
     "output_type": "execute_result"
    }
   ],
   "source": [
    "# Prepare parameters for PRC\n",
    "\n",
    "# Uncomment the following when you have data ready\n",
    "\n",
    "\"\"\"\n",
    "# Get probablistic predictions using a trained model\n",
    "probs = xgb_c.predict_proba(norm_test_f)\n",
    "pred = probs[:, 1]\n",
    "\n",
    "# Customize plot\n",
    "plt_config = {\n",
    "    'figsize': (12, 8),\n",
    "    'model': 'XGB Classifier'\n",
    "}\n",
    "\n",
    "# Call the function with your choice of f1 plotting (in the same grapgh)\n",
    "plot_PRC(y_test, pred, plt_config, f1=True)\n",
    "\"\"\""
   ]
  }
 ],
 "metadata": {
  "kernelspec": {
   "display_name": "Python 3 (ipykernel)",
   "language": "python",
   "name": "python3"
  },
  "language_info": {
   "codemirror_mode": {
    "name": "ipython",
    "version": 3
   },
   "file_extension": ".py",
   "mimetype": "text/x-python",
   "name": "python",
   "nbconvert_exporter": "python",
   "pygments_lexer": "ipython3",
   "version": "3.7.3"
  }
 },
 "nbformat": 4,
 "nbformat_minor": 5
}
